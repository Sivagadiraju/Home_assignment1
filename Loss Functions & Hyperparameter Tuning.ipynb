{
  "nbformat": 4,
  "nbformat_minor": 0,
  "metadata": {
    "colab": {
      "provenance": [],
      "authorship_tag": "ABX9TyMR8NfGCBfZxyDd1Ej7Oixy",
      "include_colab_link": true
    },
    "kernelspec": {
      "name": "python3",
      "display_name": "Python 3"
    },
    "language_info": {
      "name": "python"
    }
  },
  "cells": [
    {
      "cell_type": "markdown",
      "metadata": {
        "id": "view-in-github",
        "colab_type": "text"
      },
      "source": [
        "<a href=\"https://colab.research.google.com/github/Sivagadiraju/Home_assignment1/blob/main/Loss%20Functions%20%26%20Hyperparameter%20Tuning.ipynb\" target=\"_parent\"><img src=\"https://colab.research.google.com/assets/colab-badge.svg\" alt=\"Open In Colab\"/></a>"
      ]
    },
    {
      "cell_type": "code",
      "execution_count": 1,
      "metadata": {
        "id": "7F1gT4y6R6Fn",
        "colab": {
          "base_uri": "https://localhost:8080/"
        },
        "outputId": "0380fc8e-8bd9-4936-d528-7c0a743bddb5"
      },
      "outputs": [
        {
          "output_type": "stream",
          "name": "stdout",
          "text": [
            "Original Tensor:\n",
            " [[0.9294814  0.90773785 0.38509893 0.68397677 0.6850853  0.6777698 ]\n",
            " [0.8606199  0.7315279  0.921088   0.57737756 0.10160732 0.83202386]\n",
            " [0.6381999  0.78020453 0.4484346  0.01192021 0.9249551  0.3793006 ]\n",
            " [0.40398383 0.6059836  0.15265667 0.92765296 0.6172048  0.42187464]]\n",
            "\n",
            "Rank of tensor: 2\n",
            "Shape of tensor: [4 6]\n",
            "\n",
            "Reshaped Tensor Shape: (2, 3, 4)\n",
            "Transposed Tensor Shape: (3, 2, 4)\n",
            "\n",
            "Broadcasted Small Tensor:\n",
            " [[0.91338944 0.98341453 0.47797954 0.9300313 ]\n",
            " [0.91338944 0.98341453 0.47797954 0.9300313 ]\n",
            " [0.91338944 0.98341453 0.47797954 0.9300313 ]\n",
            " [0.91338944 0.98341453 0.47797954 0.9300313 ]]\n",
            "Result after Broadcasting and Addition:\n",
            " [[1.8428708  1.8911524  0.8630785  1.6140081 ]\n",
            " [1.7740093  1.7149425  1.3990675  1.5074089 ]\n",
            " [1.5515894  1.7636191  0.92641413 0.9419515 ]\n",
            " [1.3173733  1.5893981  0.6306362  1.8576843 ]]\n"
          ]
        }
      ],
      "source": [
        "#1.\tTensor Manipulations & Reshaping\n",
        "\n",
        "import tensorflow as tf\n",
        "\n",
        "# 1. Create a random tensor of shape (4, 6)\n",
        "tensor = tf.random.uniform(shape=(4, 6))\n",
        "print(\"Original Tensor:\\n\", tensor.numpy())\n",
        "\n",
        "# 2. Find its rank and shape\n",
        "rank = tf.rank(tensor)\n",
        "shape = tf.shape(tensor)\n",
        "print(\"\\nRank of tensor:\", rank.numpy())\n",
        "print(\"Shape of tensor:\", shape.numpy())\n",
        "\n",
        "# 3. Reshape it into (2, 3, 4)\n",
        "reshaped_tensor = tf.reshape(tensor, (2, 3, 4))\n",
        "print(\"\\nReshaped Tensor Shape:\", reshaped_tensor.shape)\n",
        "\n",
        "# Transpose it to (3, 2, 4)\n",
        "transposed_tensor = tf.transpose(reshaped_tensor, perm=[1, 0, 2])\n",
        "print(\"Transposed Tensor Shape:\", transposed_tensor.shape)\n",
        "\n",
        "# 4. Broadcast a smaller tensor (1, 4) to match the larger tensor\n",
        "small_tensor = tf.random.uniform(shape=(1, 4))\n",
        "broadcasted_tensor = tf.broadcast_to(small_tensor, shape=(4, 4))\n",
        "\n",
        "# Add the tensors\n",
        "added_tensor = tensor[:, :4] + broadcasted_tensor\n",
        "print(\"\\nBroadcasted Small Tensor:\\n\", broadcasted_tensor.numpy())\n",
        "print(\"Result after Broadcasting and Addition:\\n\", added_tensor.numpy())\n"
      ]
    },
    {
      "cell_type": "code",
      "source": [
        "#2.\tLoss Functions & Hyperparameter Tuning\n",
        "\n",
        "\n",
        "import tensorflow as tf\n",
        "import numpy as np\n",
        "import matplotlib.pyplot as plt\n",
        "\n",
        "# 1. Define true values (y_true) and model predictions (y_pred)\n",
        "y_true = np.array([0, 1, 0])  # One-hot encoded true label\n",
        "y_pred_1 = np.array([0.1, 0.8, 0.1])  # Initial prediction\n",
        "y_pred_2 = np.array([0.2, 0.6, 0.2])  # Slightly modified prediction\n",
        "\n",
        "# 2. Compute Mean Squared Error (MSE) and Categorical Cross-Entropy (CCE) losses\n",
        "mse = tf.keras.losses.MeanSquaredError()\n",
        "cce = tf.keras.losses.CategoricalCrossentropy()\n",
        "\n",
        "loss_mse_1 = mse(y_true, y_pred_1).numpy()\n",
        "loss_cce_1 = cce(y_true, y_pred_1).numpy()\n",
        "\n",
        "loss_mse_2 = mse(y_true, y_pred_2).numpy()\n",
        "loss_cce_2 = cce(y_true, y_pred_2).numpy()\n",
        "\n",
        "# Print loss values\n",
        "print(\"Loss for y_pred_1:\")\n",
        "print(\"MSE Loss:\", loss_mse_1)\n",
        "print(\"Categorical Cross-Entropy Loss:\", loss_cce_1)\n",
        "\n",
        "print(\"\\nLoss for y_pred_2:\")\n",
        "print(\"MSE Loss:\", loss_mse_2)\n",
        "print(\"Categorical Cross-Entropy Loss:\", loss_cce_2)\n",
        "\n",
        "# 3. Plot loss function values using Matplotlib\n",
        "labels = [\"MSE Loss\", \"CCE Loss\"]\n",
        "loss_values_1 = [loss_mse_1, loss_cce_1]\n",
        "loss_values_2 = [loss_mse_2, loss_cce_2]\n",
        "\n",
        "x = np.arange(len(labels))  # Label positions\n",
        "\n",
        "plt.figure(figsize=(8, 5))\n",
        "plt.bar(x - 0.2, loss_values_1, width=0.4, label=\"y_pred_1\", color=\"blue\")\n",
        "plt.bar(x + 0.2, loss_values_2, width=0.4, label=\"y_pred_2\", color=\"red\")\n",
        "\n",
        "plt.xticks(x, labels)\n",
        "plt.ylabel(\"Loss Value\")\n",
        "plt.title(\"Comparison of MSE and Cross-Entropy Loss\")\n",
        "plt.legend()\n",
        "plt.show()\n"
      ],
      "metadata": {
        "colab": {
          "base_uri": "https://localhost:8080/",
          "height": 596
        },
        "id": "gNu7N1FJGjsV",
        "outputId": "b608a550-0cc6-4a40-9cdb-10565a9ab424"
      },
      "execution_count": 2,
      "outputs": [
        {
          "output_type": "stream",
          "name": "stdout",
          "text": [
            "Loss for y_pred_1:\n",
            "MSE Loss: 0.02\n",
            "Categorical Cross-Entropy Loss: 0.22314353\n",
            "\n",
            "Loss for y_pred_2:\n",
            "MSE Loss: 0.08\n",
            "Categorical Cross-Entropy Loss: 0.5108256\n"
          ]
        },
        {
          "output_type": "display_data",
          "data": {
            "text/plain": [
              "<Figure size 800x500 with 1 Axes>"
            ],
            "image/png": "[encoded data removed]"
          },
          "metadata": {}
        }
      ]
    }
  ]
}