{
  "nbformat": 4,
  "nbformat_minor": 0,
  "metadata": {
    "colab": {
      "provenance": [],
      "authorship_tag": "ABX9TyM1yRoXpL5yk3PNrD9aArFo",
      "include_colab_link": true
    },
    "kernelspec": {
      "name": "python3",
      "display_name": "Python 3"
    },
    "language_info": {
      "name": "python"
    }
  },
  "cells": [
    {
      "cell_type": "markdown",
      "metadata": {
        "id": "view-in-github",
        "colab_type": "text"
      },
      "source": [
        "<a href=\"https://colab.research.google.com/github/Sivagadiraju/Home_assignment1/blob/main/Tensor%20Manipulations%20%26%20Reshaping.ipynb\" target=\"_parent\"><img src=\"https://colab.research.google.com/assets/colab-badge.svg\" alt=\"Open In Colab\"/></a>"
      ]
    },
    {
      "cell_type": "code",
      "execution_count": 1,
      "metadata": {
        "id": "7F1gT4y6R6Fn",
        "colab": {
          "base_uri": "https://localhost:8080/"
        },
        "outputId": "0380fc8e-8bd9-4936-d528-7c0a743bddb5"
      },
      "outputs": [
        {
          "output_type": "stream",
          "name": "stdout",
          "text": [
            "Original Tensor:\n",
            " [[0.9294814  0.90773785 0.38509893 0.68397677 0.6850853  0.6777698 ]\n",
            " [0.8606199  0.7315279  0.921088   0.57737756 0.10160732 0.83202386]\n",
            " [0.6381999  0.78020453 0.4484346  0.01192021 0.9249551  0.3793006 ]\n",
            " [0.40398383 0.6059836  0.15265667 0.92765296 0.6172048  0.42187464]]\n",
            "\n",
            "Rank of tensor: 2\n",
            "Shape of tensor: [4 6]\n",
            "\n",
            "Reshaped Tensor Shape: (2, 3, 4)\n",
            "Transposed Tensor Shape: (3, 2, 4)\n",
            "\n",
            "Broadcasted Small Tensor:\n",
            " [[0.91338944 0.98341453 0.47797954 0.9300313 ]\n",
            " [0.91338944 0.98341453 0.47797954 0.9300313 ]\n",
            " [0.91338944 0.98341453 0.47797954 0.9300313 ]\n",
            " [0.91338944 0.98341453 0.47797954 0.9300313 ]]\n",
            "Result after Broadcasting and Addition:\n",
            " [[1.8428708  1.8911524  0.8630785  1.6140081 ]\n",
            " [1.7740093  1.7149425  1.3990675  1.5074089 ]\n",
            " [1.5515894  1.7636191  0.92641413 0.9419515 ]\n",
            " [1.3173733  1.5893981  0.6306362  1.8576843 ]]\n"
          ]
        }
      ],
      "source": [
        "#1.\tTensor Manipulations & Reshaping\n",
        "\n",
        "import tensorflow as tf\n",
        "\n",
        "# 1. Create a random tensor of shape (4, 6)\n",
        "tensor = tf.random.uniform(shape=(4, 6))\n",
        "print(\"Original Tensor:\\n\", tensor.numpy())\n",
        "\n",
        "# 2. Find its rank and shape\n",
        "rank = tf.rank(tensor)\n",
        "shape = tf.shape(tensor)\n",
        "print(\"\\nRank of tensor:\", rank.numpy())\n",
        "print(\"Shape of tensor:\", shape.numpy())\n",
        "\n",
        "# 3. Reshape it into (2, 3, 4)\n",
        "reshaped_tensor = tf.reshape(tensor, (2, 3, 4))\n",
        "print(\"\\nReshaped Tensor Shape:\", reshaped_tensor.shape)\n",
        "\n",
        "# Transpose it to (3, 2, 4)\n",
        "transposed_tensor = tf.transpose(reshaped_tensor, perm=[1, 0, 2])\n",
        "print(\"Transposed Tensor Shape:\", transposed_tensor.shape)\n",
        "\n",
        "# 4. Broadcast a smaller tensor (1, 4) to match the larger tensor\n",
        "small_tensor = tf.random.uniform(shape=(1, 4))\n",
        "broadcasted_tensor = tf.broadcast_to(small_tensor, shape=(4, 4))\n",
        "\n",
        "# Add the tensors\n",
        "added_tensor = tensor[:, :4] + broadcasted_tensor\n",
        "print(\"\\nBroadcasted Small Tensor:\\n\", broadcasted_tensor.numpy())\n",
        "print(\"Result after Broadcasting and Addition:\\n\", added_tensor.numpy())\n"
      ]
    }
  ]
}